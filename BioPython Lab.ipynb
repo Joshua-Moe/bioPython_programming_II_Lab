{
 "cells": [
  {
   "cell_type": "markdown",
   "metadata": {},
   "source": [
    "## Step 1: Using SeqIO, read in and parse the file of apple primary transcripts (available on Canvas):\n",
    "    - During your parsing, create a list of only transcripts of length 125 or less\n",
    "    - Report the number of transcripts matching this criteria\n",
    "    - Translate these sequences to protein, make sure to save them to their own list"
   ]
  },
  {
   "cell_type": "code",
   "execution_count": 1,
   "metadata": {},
   "outputs": [
    {
     "name": "stdout",
     "output_type": "stream",
     "text": [
      "The number of transcripts matching this criteria of length 'equal-to-or-less-than-125' is 62\n"
     ]
    }
   ],
   "source": [
    "from Bio import SeqIO\n",
    "\n",
    "equal_or_less_125 = []  # a list of only transcripts of length 125 or less\n",
    "fh = open(\"./Mdomestica_491_v1.1.cds_primaryTranscriptOnly.fa\",'r')\n",
    "\n",
    "for record in SeqIO.parse(fh,\"fasta\"):\n",
    "    #print(record)\n",
    "    if len(record) <= 125:\n",
    "        equal_or_less_125.append(record)\n",
    "    else:\n",
    "        continue\n",
    "        \n",
    "print(\"The number of transcripts matching this criteria of length 'equal-to-or-less-than-125' is \" + str(len(equal_or_less_125)))\n",
    "      \n",
    "translated = []\n",
    "for p in equal_or_less_125:\n",
    "    translated.append(p.translate())"
   ]
  },
  {
   "cell_type": "markdown",
   "metadata": {},
   "source": [
    "#### The following cells are me feeling for what I could do"
   ]
  },
  {
   "cell_type": "code",
   "execution_count": null,
   "metadata": {},
   "outputs": [],
   "source": [
    "#equal_or_less_125[0]  \n",
    "translated[0]"
   ]
  },
  {
   "cell_type": "code",
   "execution_count": null,
   "metadata": {},
   "outputs": [],
   "source": [
    "translated[0].seq"
   ]
  },
  {
   "cell_type": "code",
   "execution_count": null,
   "metadata": {},
   "outputs": [],
   "source": [
    "type(translated[0].seq)"
   ]
  },
  {
   "cell_type": "markdown",
   "metadata": {},
   "source": [
    "## Step 2: Align our small proteins using pairwise2\n",
    "    - Align each protein to each other protein using the blosum62 scoring matrix, a gap opening penalty of -10, and a gap extension penalty of -0.5\n",
    "    - If an alignment scores better than 40, save it.\n",
    "    - Print the highest scoring pairwise alignment\n",
    "    - Take care in how you set up your loops for the pairwise alignments. Each alignment only needs to be done once. If you've already tested the alignment of seq1 vs seq5, don't align seq5 vs seq1.\n",
    "    "
   ]
  },
  {
   "cell_type": "code",
   "execution_count": 2,
   "metadata": {},
   "outputs": [],
   "source": [
    "#for p in equal_or_less_125:\n",
    "#    translated.append(p.translate())"
   ]
  },
  {
   "cell_type": "code",
   "execution_count": 3,
   "metadata": {},
   "outputs": [],
   "source": [
    "#len(translated)\n",
    "#translated[0:3]"
   ]
  },
  {
   "cell_type": "code",
   "execution_count": 4,
   "metadata": {},
   "outputs": [],
   "source": [
    "from Bio import pairwise2\n",
    "from Bio.SubsMat.MatrixInfo import blosum62\n",
    "\n",
    "kept_alignments = []\n",
    "highest_scoring_alignment = None\n",
    "score_placeholder = None\n",
    "placement = 0\n",
    "\n",
    "\n",
    "for Seq_1 in translated:\n",
    "    for Seq_2 in translated[placement:]:\n",
    "        \n",
    "        if Seq_1.seq != Seq_2.seq:\n",
    "            align = pairwise2.align.localds(Seq_1.seq.rstrip('*'), Seq_2.seq.rstrip('*'), blosum62, -10, -0.5)\n",
    "            a,b,c,d,e = align[0] # 'align' is a list of ONE object which is a FIVE variable tuple, the third variable is the SCORE. \n",
    "            \n",
    "            if c >= 40:\n",
    "                \n",
    "                kept_alignments.append(align)\n",
    "                \n",
    "                \n",
    "                if highest_scoring_alignment == None:\n",
    "                    score_placeholder = c\n",
    "                    highest_scoring_alignment = align\n",
    "                    continue\n",
    "                elif highest_scoring_alignment != None:\n",
    "                    if c > score_placeholder:\n",
    "                        score_placeholder = c\n",
    "                        highest_scoring_alignment = align\n",
    "                    else:\n",
    "                        continue\n",
    "                        \n",
    "            else:\n",
    "                continue\n",
    "                \n",
    "        else:\n",
    "            continue\n",
    "    \n",
    "    placement += 1\n",
    "    \n",
    "    #placement = 1 \n",
    "    #translated.pop(0) #This is to prevent redundant alignment pairing: i.e. 'Seq_1 to Seq_2' and 'Seq_2 to Seq_1'"
   ]
  },
  {
   "cell_type": "code",
   "execution_count": 5,
   "metadata": {},
   "outputs": [
    {
     "data": {
      "text/plain": [
       "2"
      ]
     },
     "execution_count": 5,
     "metadata": {},
     "output_type": "execute_result"
    }
   ],
   "source": [
    "len(kept_alignments)"
   ]
  },
  {
   "cell_type": "code",
   "execution_count": 6,
   "metadata": {},
   "outputs": [
    {
     "name": "stdout",
     "output_type": "stream",
     "text": [
      "[('MIWFCFVFLGNGVVRFSQLLGCHFHVGSTSTKLRVRICKI-', 'MIW-CFVELMFIVYGFACILLCIPTLGIQGTKFRSISNFLF', 46.0, 0, 34)]\n"
     ]
    }
   ],
   "source": [
    "print(highest_scoring_alignment)"
   ]
  },
  {
   "cell_type": "code",
   "execution_count": 7,
   "metadata": {},
   "outputs": [
    {
     "data": {
      "text/plain": [
       "('MVGVPQVFRRGELPNEVSCLL-----LIC---QSNESLFRSQIAKSSS',\n",
       " '---MPVVLR--ELDLESSCMVKFTVDLLCYELRSSWIVFRPQTRK---',\n",
       " 40.5,\n",
       " 3,\n",
       " 45)"
      ]
     },
     "execution_count": 7,
     "metadata": {},
     "output_type": "execute_result"
    }
   ],
   "source": [
    "kept_alignments[0][0]"
   ]
  },
  {
   "cell_type": "code",
   "execution_count": 8,
   "metadata": {},
   "outputs": [
    {
     "data": {
      "text/plain": [
       "('MIWFCFVFLGNGVVRFSQLLGCHFHVGSTSTKLRVRICKI-',\n",
       " 'MIW-CFVELMFIVYGFACILLCIPTLGIQGTKFRSISNFLF',\n",
       " 46.0,\n",
       " 0,\n",
       " 34)"
      ]
     },
     "execution_count": 8,
     "metadata": {},
     "output_type": "execute_result"
    }
   ],
   "source": [
    "kept_alignments[1][0]"
   ]
  },
  {
   "cell_type": "markdown",
   "metadata": {},
   "source": [
    "#### The following cells are me feeling for what I could do"
   ]
  },
  {
   "cell_type": "code",
   "execution_count": null,
   "metadata": {},
   "outputs": [],
   "source": [
    "#from Bio import pairwise2\n",
    "#from Bio.SubsMat.MatrixInfo import blosum62"
   ]
  },
  {
   "cell_type": "code",
   "execution_count": null,
   "metadata": {},
   "outputs": [],
   "source": [
    "#translated[0].seq.rstrip('*')"
   ]
  },
  {
   "cell_type": "code",
   "execution_count": null,
   "metadata": {},
   "outputs": [],
   "source": [
    "#seq_1 = translated[0].seq"
   ]
  },
  {
   "cell_type": "code",
   "execution_count": null,
   "metadata": {},
   "outputs": [],
   "source": [
    "#test_align = pairwise2.align.localds(translated[0].seq.rstrip('*'), translated[1].seq.rstrip('*'), blosum62, -10, -0.5)"
   ]
  },
  {
   "cell_type": "code",
   "execution_count": null,
   "metadata": {},
   "outputs": [],
   "source": [
    "#test_align"
   ]
  },
  {
   "cell_type": "code",
   "execution_count": null,
   "metadata": {},
   "outputs": [],
   "source": [
    "#a,b,c,d,e = test_align[0]\n",
    "#print(c)"
   ]
  },
  {
   "cell_type": "code",
   "execution_count": null,
   "metadata": {},
   "outputs": [],
   "source": [
    "#print(pairwise2.format_alignment(*test_align[0]))"
   ]
  },
  {
   "cell_type": "markdown",
   "metadata": {},
   "source": [
    "## Step 3: Running BLAST and reading results\n",
    "     *Because we are doing a web BLAST, choose ONLY one sequence from our list of short proteins*.\n",
    "    - Run BLAST with your sequence against the NR database\n",
    "    - Parse the results. Report any HSPs with an E-value less than 0.05 and show the HSP alignments, including the name of the matching sequence. If no HSPs meet that criteria, report the highest scoring pair.\n",
    "    - If for whatever reason the sequence you selected fails to return any results, try a new one "
   ]
  },
  {
   "cell_type": "code",
   "execution_count": null,
   "metadata": {},
   "outputs": [],
   "source": [
    "from Bio.Blast import NCBIWWW\n",
    "results_handle = NCBIWWW.qblast('blastp','nr',kept_alignments[0][0])"
   ]
  },
  {
   "cell_type": "code",
   "execution_count": null,
   "metadata": {},
   "outputs": [],
   "source": [
    "with open('BLAST_results.xml','w') as out_handle:\n",
    "    out_handle.write(results_handle.read())\n",
    "    \n",
    "results_handle.close()"
   ]
  },
  {
   "cell_type": "code",
   "execution_count": 9,
   "metadata": {},
   "outputs": [],
   "source": [
    "RESULTS_HANDLE = open('./BLAST_results.xml','r')"
   ]
  },
  {
   "cell_type": "code",
   "execution_count": 10,
   "metadata": {},
   "outputs": [],
   "source": [
    "#RESULTS_HANDLE.close()"
   ]
  },
  {
   "cell_type": "code",
   "execution_count": 11,
   "metadata": {},
   "outputs": [],
   "source": [
    "from Bio.Blast import NCBIXML\n",
    "blast_records = NCBIXML.parse(RESULTS_HANDLE)"
   ]
  },
  {
   "cell_type": "code",
   "execution_count": 12,
   "metadata": {},
   "outputs": [
    {
     "name": "stdout",
     "output_type": "stream",
     "text": [
      "****Alignment****\n",
      "sequence: gb|RXH96343.1| hypothetical protein DVH24_008847 [Malus domestica]\n",
      "length: 197\n",
      "e value: 2.04733e-16\n",
      "MPVVLRELDLESSCMVKFTVDLLCYELRSSWIVFRPQ...\n",
      "MPVVLRELDLESSCMVKFTVDLLCYELRSSWIVFRPQ...\n",
      "MPVVLRELDLESSCMVKFTVDLLCYELRSSWIVFRPQ...\n",
      "****Alignment****\n",
      "sequence: gb|RXI09171.1| hypothetical protein DVH24_023332 [Malus domestica]\n",
      "length: 399\n",
      "e value: 1.20114e-07\n",
      "MVGVPQVFRRGELPNEVSCLLLICQ...\n",
      "MVGVPQVFRRGELPNEVSCLLLICQ...\n",
      "MVGVPQVFRRGELPNEVSCLLLICQ...\n"
     ]
    }
   ],
   "source": [
    "E_VALUE_THRESH = 0.05\n",
    "\n",
    "for blast_record in blast_records:\n",
    "    \n",
    "    for alignment in blast_record.alignments:\n",
    "        for hsp in alignment.hsps:\n",
    "            if hsp.expect < E_VALUE_THRESH:\n",
    "                print(\"****Alignment****\")\n",
    "                print(\"sequence:\", alignment.title)\n",
    "                print(\"length:\", alignment.length)\n",
    "                print(\"e value:\",hsp.expect)\n",
    "                print(hsp.query[0:75] + \"...\")\n",
    "                print(hsp.match[0:75] + \"...\")\n",
    "                print(hsp.sbjct[0:75] + \"...\")"
   ]
  },
  {
   "cell_type": "code",
   "execution_count": null,
   "metadata": {},
   "outputs": [],
   "source": [
    " "
   ]
  }
 ],
 "metadata": {
  "kernelspec": {
   "display_name": "Python 3",
   "language": "python",
   "name": "python3"
  },
  "language_info": {
   "codemirror_mode": {
    "name": "ipython",
    "version": 3
   },
   "file_extension": ".py",
   "mimetype": "text/x-python",
   "name": "python",
   "nbconvert_exporter": "python",
   "pygments_lexer": "ipython3",
   "version": "3.7.4"
  }
 },
 "nbformat": 4,
 "nbformat_minor": 2
}
